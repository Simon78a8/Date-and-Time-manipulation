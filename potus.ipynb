{
 "cells": [
  {
   "cell_type": "markdown",
   "id": "93431a30",
   "metadata": {},
   "source": [
    "## Analyzing  WhiteHouse Visitor Records\n",
    "AS part of our analysis we want to answer several questions;\n",
    "  - Which day of week receives most vistors\n",
    "  - Which month recieves most visitors"
   ]
  },
  {
   "cell_type": "code",
   "execution_count": 1,
   "id": "755aba32",
   "metadata": {
    "collapsed": true
   },
   "outputs": [
    {
     "data": {
      "text/html": [
       "<div>\n",
       "<style scoped>\n",
       "    .dataframe tbody tr th:only-of-type {\n",
       "        vertical-align: middle;\n",
       "    }\n",
       "\n",
       "    .dataframe tbody tr th {\n",
       "        vertical-align: top;\n",
       "    }\n",
       "\n",
       "    .dataframe thead th {\n",
       "        text-align: right;\n",
       "    }\n",
       "</style>\n",
       "<table border=\"1\" class=\"dataframe\">\n",
       "  <thead>\n",
       "    <tr style=\"text-align: right;\">\n",
       "      <th></th>\n",
       "      <th>name</th>\n",
       "      <th>appt_made_date</th>\n",
       "      <th>appt_start_date</th>\n",
       "      <th>appt_end_date</th>\n",
       "      <th>visitee_namelast</th>\n",
       "      <th>visitee_namefirst</th>\n",
       "      <th>meeting_room</th>\n",
       "      <th>description</th>\n",
       "    </tr>\n",
       "  </thead>\n",
       "  <tbody>\n",
       "    <tr>\n",
       "      <th>0</th>\n",
       "      <td>Joshua T. Blanton</td>\n",
       "      <td>2014-12-18T00:00:00</td>\n",
       "      <td>1/6/15 9:30</td>\n",
       "      <td>1/6/15 23:59</td>\n",
       "      <td>NaN</td>\n",
       "      <td>potus</td>\n",
       "      <td>west wing</td>\n",
       "      <td>JointService Military Honor Guard</td>\n",
       "    </tr>\n",
       "    <tr>\n",
       "      <th>1</th>\n",
       "      <td>Jack T. Gutting</td>\n",
       "      <td>2014-12-18T00:00:00</td>\n",
       "      <td>1/6/15 9:30</td>\n",
       "      <td>1/6/15 23:59</td>\n",
       "      <td>NaN</td>\n",
       "      <td>potus</td>\n",
       "      <td>west wing</td>\n",
       "      <td>JointService Military Honor Guard</td>\n",
       "    </tr>\n",
       "    <tr>\n",
       "      <th>2</th>\n",
       "      <td>Bradley T. Guiles</td>\n",
       "      <td>2014-12-18T00:00:00</td>\n",
       "      <td>1/6/15 9:30</td>\n",
       "      <td>1/6/15 23:59</td>\n",
       "      <td>NaN</td>\n",
       "      <td>potus</td>\n",
       "      <td>west wing</td>\n",
       "      <td>JointService Military Honor Guard</td>\n",
       "    </tr>\n",
       "    <tr>\n",
       "      <th>3</th>\n",
       "      <td>Loryn F. Grieb</td>\n",
       "      <td>2014-12-18T00:00:00</td>\n",
       "      <td>1/6/15 9:30</td>\n",
       "      <td>1/6/15 23:59</td>\n",
       "      <td>NaN</td>\n",
       "      <td>potus</td>\n",
       "      <td>west wing</td>\n",
       "      <td>JointService Military Honor Guard</td>\n",
       "    </tr>\n",
       "    <tr>\n",
       "      <th>4</th>\n",
       "      <td>Travis D. Gordon</td>\n",
       "      <td>2014-12-18T00:00:00</td>\n",
       "      <td>1/6/15 9:30</td>\n",
       "      <td>1/6/15 23:59</td>\n",
       "      <td>NaN</td>\n",
       "      <td>potus</td>\n",
       "      <td>west wing</td>\n",
       "      <td>JointService Military Honor Guard</td>\n",
       "    </tr>\n",
       "    <tr>\n",
       "      <th>...</th>\n",
       "      <td>...</td>\n",
       "      <td>...</td>\n",
       "      <td>...</td>\n",
       "      <td>...</td>\n",
       "      <td>...</td>\n",
       "      <td>...</td>\n",
       "      <td>...</td>\n",
       "      <td>...</td>\n",
       "    </tr>\n",
       "    <tr>\n",
       "      <th>47949</th>\n",
       "      <td>William B. Henline</td>\n",
       "      <td>2015-12-16T00:00:00</td>\n",
       "      <td>12/18/15 16:30</td>\n",
       "      <td>12/18/15 23:59</td>\n",
       "      <td>NaN</td>\n",
       "      <td>POTUS/FLOTUS</td>\n",
       "      <td>State Floo</td>\n",
       "      <td>NaN</td>\n",
       "    </tr>\n",
       "    <tr>\n",
       "      <th>47950</th>\n",
       "      <td>Ian T. Burris</td>\n",
       "      <td>2015-12-16T00:00:00</td>\n",
       "      <td>12/18/15 16:30</td>\n",
       "      <td>12/18/15 23:59</td>\n",
       "      <td>NaN</td>\n",
       "      <td>POTUS/FLOTUS</td>\n",
       "      <td>State Floo</td>\n",
       "      <td>NaN</td>\n",
       "    </tr>\n",
       "    <tr>\n",
       "      <th>47951</th>\n",
       "      <td>James F. Albaugh</td>\n",
       "      <td>2015-12-16T00:00:00</td>\n",
       "      <td>12/18/15 16:30</td>\n",
       "      <td>12/18/15 23:59</td>\n",
       "      <td>NaN</td>\n",
       "      <td>POTUS/FLOTUS</td>\n",
       "      <td>State Floo</td>\n",
       "      <td>NaN</td>\n",
       "    </tr>\n",
       "    <tr>\n",
       "      <th>47952</th>\n",
       "      <td>Jackie L. Finken</td>\n",
       "      <td>2015-12-16T00:00:00</td>\n",
       "      <td>12/18/15 16:30</td>\n",
       "      <td>12/18/15 23:59</td>\n",
       "      <td>NaN</td>\n",
       "      <td>POTUS/FLOTUS</td>\n",
       "      <td>State Floo</td>\n",
       "      <td>NaN</td>\n",
       "    </tr>\n",
       "    <tr>\n",
       "      <th>47953</th>\n",
       "      <td>Grace M. Bauman</td>\n",
       "      <td>2015-12-16T00:00:00</td>\n",
       "      <td>12/18/15 16:30</td>\n",
       "      <td>12/18/15 23:59</td>\n",
       "      <td>NaN</td>\n",
       "      <td>POTUS/FLOTUS</td>\n",
       "      <td>State Floo</td>\n",
       "      <td>NaN</td>\n",
       "    </tr>\n",
       "  </tbody>\n",
       "</table>\n",
       "<p>47954 rows × 8 columns</p>\n",
       "</div>"
      ],
      "text/plain": [
       "                     name       appt_made_date appt_start_date  \\\n",
       "0       Joshua T. Blanton  2014-12-18T00:00:00     1/6/15 9:30   \n",
       "1         Jack T. Gutting  2014-12-18T00:00:00     1/6/15 9:30   \n",
       "2       Bradley T. Guiles  2014-12-18T00:00:00     1/6/15 9:30   \n",
       "3          Loryn F. Grieb  2014-12-18T00:00:00     1/6/15 9:30   \n",
       "4        Travis D. Gordon  2014-12-18T00:00:00     1/6/15 9:30   \n",
       "...                   ...                  ...             ...   \n",
       "47949  William B. Henline  2015-12-16T00:00:00  12/18/15 16:30   \n",
       "47950       Ian T. Burris  2015-12-16T00:00:00  12/18/15 16:30   \n",
       "47951    James F. Albaugh  2015-12-16T00:00:00  12/18/15 16:30   \n",
       "47952    Jackie L. Finken  2015-12-16T00:00:00  12/18/15 16:30   \n",
       "47953     Grace M. Bauman  2015-12-16T00:00:00  12/18/15 16:30   \n",
       "\n",
       "        appt_end_date visitee_namelast visitee_namefirst meeting_room  \\\n",
       "0        1/6/15 23:59              NaN             potus    west wing   \n",
       "1        1/6/15 23:59              NaN             potus    west wing   \n",
       "2        1/6/15 23:59              NaN             potus    west wing   \n",
       "3        1/6/15 23:59              NaN             potus    west wing   \n",
       "4        1/6/15 23:59              NaN             potus    west wing   \n",
       "...               ...              ...               ...          ...   \n",
       "47949  12/18/15 23:59              NaN      POTUS/FLOTUS   State Floo   \n",
       "47950  12/18/15 23:59              NaN      POTUS/FLOTUS   State Floo   \n",
       "47951  12/18/15 23:59              NaN      POTUS/FLOTUS   State Floo   \n",
       "47952  12/18/15 23:59              NaN      POTUS/FLOTUS   State Floo   \n",
       "47953  12/18/15 23:59              NaN      POTUS/FLOTUS   State Floo   \n",
       "\n",
       "                             description  \n",
       "0      JointService Military Honor Guard  \n",
       "1      JointService Military Honor Guard  \n",
       "2      JointService Military Honor Guard  \n",
       "3      JointService Military Honor Guard  \n",
       "4      JointService Military Honor Guard  \n",
       "...                                  ...  \n",
       "47949                                NaN  \n",
       "47950                                NaN  \n",
       "47951                                NaN  \n",
       "47952                                NaN  \n",
       "47953                                NaN  \n",
       "\n",
       "[47954 rows x 8 columns]"
      ]
     },
     "execution_count": 1,
     "metadata": {},
     "output_type": "execute_result"
    }
   ],
   "source": [
    "#import libraries\n",
    "\n",
    "import datetime as dt\n",
    "import pandas as pd\n",
    "import numpy as np\n",
    "import matplotlib.pyplot as plt\n",
    "\n",
    "\n",
    "\n",
    "\n",
    "records = pd.read_csv('C://Users//simon//Downloads//potus_visitors_2015.csv') # extract\n",
    "records"
   ]
  },
  {
   "cell_type": "code",
   "execution_count": 3,
   "id": "5bbde9dc",
   "metadata": {
    "collapsed": true
   },
   "outputs": [
    {
     "name": "stdout",
     "output_type": "stream",
     "text": [
      "<class 'pandas.core.frame.DataFrame'>\n",
      "RangeIndex: 47954 entries, 0 to 47953\n",
      "Data columns (total 8 columns):\n",
      " #   Column             Non-Null Count  Dtype \n",
      "---  ------             --------------  ----- \n",
      " 0   name               47954 non-null  object\n",
      " 1   appt_made_date     47954 non-null  object\n",
      " 2   appt_start_date    47954 non-null  object\n",
      " 3   appt_end_date      47954 non-null  object\n",
      " 4   visitee_namelast   6069 non-null   object\n",
      " 5   visitee_namefirst  47953 non-null  object\n",
      " 6   meeting_room       47954 non-null  object\n",
      " 7   description        8053 non-null   object\n",
      "dtypes: object(8)\n",
      "memory usage: 2.9+ MB\n"
     ]
    }
   ],
   "source": [
    "records.info()"
   ]
  },
  {
   "cell_type": "code",
   "execution_count": 9,
   "id": "74b5356c",
   "metadata": {},
   "outputs": [],
   "source": [
    "# clean columns\n",
    "# drop column\n",
    "\n",
    "records.drop(['visitee_namelast', 'appt_made_date'], axis =1, inplace=True)"
   ]
  },
  {
   "cell_type": "code",
   "execution_count": 10,
   "id": "a9aa5db4",
   "metadata": {},
   "outputs": [
    {
     "data": {
      "text/plain": [
       "name                     0\n",
       "appt_start_date          0\n",
       "appt_end_date            0\n",
       "visitee_namefirst        1\n",
       "meeting_room             0\n",
       "description          39901\n",
       "dtype: int64"
      ]
     },
     "execution_count": 10,
     "metadata": {},
     "output_type": "execute_result"
    }
   ],
   "source": [
    "# check for missing values\n",
    "\n",
    "records.isna().sum()"
   ]
  },
  {
   "cell_type": "code",
   "execution_count": 11,
   "id": "0cd7b7f0",
   "metadata": {},
   "outputs": [],
   "source": [
    "records['appt_start_date'] = [dt.datetime.strptime(x,'%m/%d/%y  %H:%M') for x in records['appt_start_date']] #convert dtype"
   ]
  },
  {
   "cell_type": "code",
   "execution_count": 12,
   "id": "34765acc",
   "metadata": {},
   "outputs": [],
   "source": [
    "records['appt_end_date'] = [dt.datetime.strptime(x, '%m/%d/%y %H:%M') for x in records['appt_end_date']]"
   ]
  },
  {
   "cell_type": "code",
   "execution_count": 13,
   "id": "a28a0498",
   "metadata": {
    "collapsed": true
   },
   "outputs": [
    {
     "name": "stdout",
     "output_type": "stream",
     "text": [
      "<class 'pandas.core.frame.DataFrame'>\n",
      "RangeIndex: 47954 entries, 0 to 47953\n",
      "Data columns (total 6 columns):\n",
      " #   Column             Non-Null Count  Dtype         \n",
      "---  ------             --------------  -----         \n",
      " 0   name               47954 non-null  object        \n",
      " 1   appt_start_date    47954 non-null  datetime64[ns]\n",
      " 2   appt_end_date      47954 non-null  datetime64[ns]\n",
      " 3   visitee_namefirst  47953 non-null  object        \n",
      " 4   meeting_room       47954 non-null  object        \n",
      " 5   description        8053 non-null   object        \n",
      "dtypes: datetime64[ns](2), object(4)\n",
      "memory usage: 2.2+ MB\n"
     ]
    }
   ],
   "source": [
    "records.info()"
   ]
  },
  {
   "cell_type": "code",
   "execution_count": 14,
   "id": "026212c0",
   "metadata": {},
   "outputs": [],
   "source": [
    "records['time_diff'] = records['appt_end_date'] - records['appt_start_date'] #create timedelta col"
   ]
  },
  {
   "cell_type": "code",
   "execution_count": 15,
   "id": "78a7c007",
   "metadata": {
    "collapsed": true
   },
   "outputs": [
    {
     "data": {
      "text/html": [
       "<div>\n",
       "<style scoped>\n",
       "    .dataframe tbody tr th:only-of-type {\n",
       "        vertical-align: middle;\n",
       "    }\n",
       "\n",
       "    .dataframe tbody tr th {\n",
       "        vertical-align: top;\n",
       "    }\n",
       "\n",
       "    .dataframe thead th {\n",
       "        text-align: right;\n",
       "    }\n",
       "</style>\n",
       "<table border=\"1\" class=\"dataframe\">\n",
       "  <thead>\n",
       "    <tr style=\"text-align: right;\">\n",
       "      <th></th>\n",
       "      <th>name</th>\n",
       "      <th>appt_start_date</th>\n",
       "      <th>appt_end_date</th>\n",
       "      <th>visitee_namefirst</th>\n",
       "      <th>meeting_room</th>\n",
       "      <th>description</th>\n",
       "      <th>time_diff</th>\n",
       "    </tr>\n",
       "  </thead>\n",
       "  <tbody>\n",
       "    <tr>\n",
       "      <th>0</th>\n",
       "      <td>Joshua T. Blanton</td>\n",
       "      <td>2015-01-06 09:30:00</td>\n",
       "      <td>2015-01-06 23:59:00</td>\n",
       "      <td>potus</td>\n",
       "      <td>west wing</td>\n",
       "      <td>JointService Military Honor Guard</td>\n",
       "      <td>0 days 14:29:00</td>\n",
       "    </tr>\n",
       "    <tr>\n",
       "      <th>1</th>\n",
       "      <td>Jack T. Gutting</td>\n",
       "      <td>2015-01-06 09:30:00</td>\n",
       "      <td>2015-01-06 23:59:00</td>\n",
       "      <td>potus</td>\n",
       "      <td>west wing</td>\n",
       "      <td>JointService Military Honor Guard</td>\n",
       "      <td>0 days 14:29:00</td>\n",
       "    </tr>\n",
       "    <tr>\n",
       "      <th>2</th>\n",
       "      <td>Bradley T. Guiles</td>\n",
       "      <td>2015-01-06 09:30:00</td>\n",
       "      <td>2015-01-06 23:59:00</td>\n",
       "      <td>potus</td>\n",
       "      <td>west wing</td>\n",
       "      <td>JointService Military Honor Guard</td>\n",
       "      <td>0 days 14:29:00</td>\n",
       "    </tr>\n",
       "    <tr>\n",
       "      <th>3</th>\n",
       "      <td>Loryn F. Grieb</td>\n",
       "      <td>2015-01-06 09:30:00</td>\n",
       "      <td>2015-01-06 23:59:00</td>\n",
       "      <td>potus</td>\n",
       "      <td>west wing</td>\n",
       "      <td>JointService Military Honor Guard</td>\n",
       "      <td>0 days 14:29:00</td>\n",
       "    </tr>\n",
       "    <tr>\n",
       "      <th>4</th>\n",
       "      <td>Travis D. Gordon</td>\n",
       "      <td>2015-01-06 09:30:00</td>\n",
       "      <td>2015-01-06 23:59:00</td>\n",
       "      <td>potus</td>\n",
       "      <td>west wing</td>\n",
       "      <td>JointService Military Honor Guard</td>\n",
       "      <td>0 days 14:29:00</td>\n",
       "    </tr>\n",
       "    <tr>\n",
       "      <th>...</th>\n",
       "      <td>...</td>\n",
       "      <td>...</td>\n",
       "      <td>...</td>\n",
       "      <td>...</td>\n",
       "      <td>...</td>\n",
       "      <td>...</td>\n",
       "      <td>...</td>\n",
       "    </tr>\n",
       "    <tr>\n",
       "      <th>47949</th>\n",
       "      <td>William B. Henline</td>\n",
       "      <td>2015-12-18 16:30:00</td>\n",
       "      <td>2015-12-18 23:59:00</td>\n",
       "      <td>POTUS/FLOTUS</td>\n",
       "      <td>State Floo</td>\n",
       "      <td>NaN</td>\n",
       "      <td>0 days 07:29:00</td>\n",
       "    </tr>\n",
       "    <tr>\n",
       "      <th>47950</th>\n",
       "      <td>Ian T. Burris</td>\n",
       "      <td>2015-12-18 16:30:00</td>\n",
       "      <td>2015-12-18 23:59:00</td>\n",
       "      <td>POTUS/FLOTUS</td>\n",
       "      <td>State Floo</td>\n",
       "      <td>NaN</td>\n",
       "      <td>0 days 07:29:00</td>\n",
       "    </tr>\n",
       "    <tr>\n",
       "      <th>47951</th>\n",
       "      <td>James F. Albaugh</td>\n",
       "      <td>2015-12-18 16:30:00</td>\n",
       "      <td>2015-12-18 23:59:00</td>\n",
       "      <td>POTUS/FLOTUS</td>\n",
       "      <td>State Floo</td>\n",
       "      <td>NaN</td>\n",
       "      <td>0 days 07:29:00</td>\n",
       "    </tr>\n",
       "    <tr>\n",
       "      <th>47952</th>\n",
       "      <td>Jackie L. Finken</td>\n",
       "      <td>2015-12-18 16:30:00</td>\n",
       "      <td>2015-12-18 23:59:00</td>\n",
       "      <td>POTUS/FLOTUS</td>\n",
       "      <td>State Floo</td>\n",
       "      <td>NaN</td>\n",
       "      <td>0 days 07:29:00</td>\n",
       "    </tr>\n",
       "    <tr>\n",
       "      <th>47953</th>\n",
       "      <td>Grace M. Bauman</td>\n",
       "      <td>2015-12-18 16:30:00</td>\n",
       "      <td>2015-12-18 23:59:00</td>\n",
       "      <td>POTUS/FLOTUS</td>\n",
       "      <td>State Floo</td>\n",
       "      <td>NaN</td>\n",
       "      <td>0 days 07:29:00</td>\n",
       "    </tr>\n",
       "  </tbody>\n",
       "</table>\n",
       "<p>47954 rows × 7 columns</p>\n",
       "</div>"
      ],
      "text/plain": [
       "                     name     appt_start_date       appt_end_date  \\\n",
       "0       Joshua T. Blanton 2015-01-06 09:30:00 2015-01-06 23:59:00   \n",
       "1         Jack T. Gutting 2015-01-06 09:30:00 2015-01-06 23:59:00   \n",
       "2       Bradley T. Guiles 2015-01-06 09:30:00 2015-01-06 23:59:00   \n",
       "3          Loryn F. Grieb 2015-01-06 09:30:00 2015-01-06 23:59:00   \n",
       "4        Travis D. Gordon 2015-01-06 09:30:00 2015-01-06 23:59:00   \n",
       "...                   ...                 ...                 ...   \n",
       "47949  William B. Henline 2015-12-18 16:30:00 2015-12-18 23:59:00   \n",
       "47950       Ian T. Burris 2015-12-18 16:30:00 2015-12-18 23:59:00   \n",
       "47951    James F. Albaugh 2015-12-18 16:30:00 2015-12-18 23:59:00   \n",
       "47952    Jackie L. Finken 2015-12-18 16:30:00 2015-12-18 23:59:00   \n",
       "47953     Grace M. Bauman 2015-12-18 16:30:00 2015-12-18 23:59:00   \n",
       "\n",
       "      visitee_namefirst meeting_room                        description  \\\n",
       "0                 potus    west wing  JointService Military Honor Guard   \n",
       "1                 potus    west wing  JointService Military Honor Guard   \n",
       "2                 potus    west wing  JointService Military Honor Guard   \n",
       "3                 potus    west wing  JointService Military Honor Guard   \n",
       "4                 potus    west wing  JointService Military Honor Guard   \n",
       "...                 ...          ...                                ...   \n",
       "47949      POTUS/FLOTUS   State Floo                                NaN   \n",
       "47950      POTUS/FLOTUS   State Floo                                NaN   \n",
       "47951      POTUS/FLOTUS   State Floo                                NaN   \n",
       "47952      POTUS/FLOTUS   State Floo                                NaN   \n",
       "47953      POTUS/FLOTUS   State Floo                                NaN   \n",
       "\n",
       "            time_diff  \n",
       "0     0 days 14:29:00  \n",
       "1     0 days 14:29:00  \n",
       "2     0 days 14:29:00  \n",
       "3     0 days 14:29:00  \n",
       "4     0 days 14:29:00  \n",
       "...               ...  \n",
       "47949 0 days 07:29:00  \n",
       "47950 0 days 07:29:00  \n",
       "47951 0 days 07:29:00  \n",
       "47952 0 days 07:29:00  \n",
       "47953 0 days 07:29:00  \n",
       "\n",
       "[47954 rows x 7 columns]"
      ]
     },
     "execution_count": 15,
     "metadata": {},
     "output_type": "execute_result"
    }
   ],
   "source": [
    "records"
   ]
  },
  {
   "cell_type": "code",
   "execution_count": 16,
   "id": "4fff8348",
   "metadata": {},
   "outputs": [
    {
     "data": {
      "text/plain": [
       "0       0 days 14:29:00\n",
       "1       0 days 14:29:00\n",
       "2       0 days 14:29:00\n",
       "3       0 days 14:29:00\n",
       "4       0 days 14:29:00\n",
       "              ...      \n",
       "47949   0 days 07:29:00\n",
       "47950   0 days 07:29:00\n",
       "47951   0 days 07:29:00\n",
       "47952   0 days 07:29:00\n",
       "47953   0 days 07:29:00\n",
       "Name: time_diff, Length: 47954, dtype: timedelta64[ns]"
      ]
     },
     "execution_count": 16,
     "metadata": {},
     "output_type": "execute_result"
    }
   ],
   "source": [
    "records['time_diff']"
   ]
  },
  {
   "cell_type": "code",
   "execution_count": 18,
   "id": "346fafac",
   "metadata": {},
   "outputs": [],
   "source": [
    "records['hours'] = records['time_diff'] / np.timedelta64(1,  'h') #get hours"
   ]
  },
  {
   "cell_type": "code",
   "execution_count": 19,
   "id": "19482a01",
   "metadata": {},
   "outputs": [
    {
     "data": {
      "text/plain": [
       "0        14.483333\n",
       "1        14.483333\n",
       "2        14.483333\n",
       "3        14.483333\n",
       "4        14.483333\n",
       "           ...    \n",
       "47949     7.483333\n",
       "47950     7.483333\n",
       "47951     7.483333\n",
       "47952     7.483333\n",
       "47953     7.483333\n",
       "Name: hours, Length: 47954, dtype: float64"
      ]
     },
     "execution_count": 19,
     "metadata": {},
     "output_type": "execute_result"
    }
   ],
   "source": [
    "records['hours']"
   ]
  },
  {
   "cell_type": "code",
   "execution_count": 20,
   "id": "17b9fe1c",
   "metadata": {},
   "outputs": [
    {
     "data": {
      "text/html": [
       "<div>\n",
       "<style scoped>\n",
       "    .dataframe tbody tr th:only-of-type {\n",
       "        vertical-align: middle;\n",
       "    }\n",
       "\n",
       "    .dataframe tbody tr th {\n",
       "        vertical-align: top;\n",
       "    }\n",
       "\n",
       "    .dataframe thead th {\n",
       "        text-align: right;\n",
       "    }\n",
       "</style>\n",
       "<table border=\"1\" class=\"dataframe\">\n",
       "  <thead>\n",
       "    <tr style=\"text-align: right;\">\n",
       "      <th></th>\n",
       "      <th>days</th>\n",
       "      <th>hours</th>\n",
       "      <th>minutes</th>\n",
       "      <th>seconds</th>\n",
       "      <th>milliseconds</th>\n",
       "      <th>microseconds</th>\n",
       "      <th>nanoseconds</th>\n",
       "    </tr>\n",
       "  </thead>\n",
       "  <tbody>\n",
       "    <tr>\n",
       "      <th>0</th>\n",
       "      <td>0</td>\n",
       "      <td>14</td>\n",
       "      <td>29</td>\n",
       "      <td>0</td>\n",
       "      <td>0</td>\n",
       "      <td>0</td>\n",
       "      <td>0</td>\n",
       "    </tr>\n",
       "    <tr>\n",
       "      <th>1</th>\n",
       "      <td>0</td>\n",
       "      <td>14</td>\n",
       "      <td>29</td>\n",
       "      <td>0</td>\n",
       "      <td>0</td>\n",
       "      <td>0</td>\n",
       "      <td>0</td>\n",
       "    </tr>\n",
       "    <tr>\n",
       "      <th>2</th>\n",
       "      <td>0</td>\n",
       "      <td>14</td>\n",
       "      <td>29</td>\n",
       "      <td>0</td>\n",
       "      <td>0</td>\n",
       "      <td>0</td>\n",
       "      <td>0</td>\n",
       "    </tr>\n",
       "    <tr>\n",
       "      <th>3</th>\n",
       "      <td>0</td>\n",
       "      <td>14</td>\n",
       "      <td>29</td>\n",
       "      <td>0</td>\n",
       "      <td>0</td>\n",
       "      <td>0</td>\n",
       "      <td>0</td>\n",
       "    </tr>\n",
       "    <tr>\n",
       "      <th>4</th>\n",
       "      <td>0</td>\n",
       "      <td>14</td>\n",
       "      <td>29</td>\n",
       "      <td>0</td>\n",
       "      <td>0</td>\n",
       "      <td>0</td>\n",
       "      <td>0</td>\n",
       "    </tr>\n",
       "    <tr>\n",
       "      <th>...</th>\n",
       "      <td>...</td>\n",
       "      <td>...</td>\n",
       "      <td>...</td>\n",
       "      <td>...</td>\n",
       "      <td>...</td>\n",
       "      <td>...</td>\n",
       "      <td>...</td>\n",
       "    </tr>\n",
       "    <tr>\n",
       "      <th>47949</th>\n",
       "      <td>0</td>\n",
       "      <td>7</td>\n",
       "      <td>29</td>\n",
       "      <td>0</td>\n",
       "      <td>0</td>\n",
       "      <td>0</td>\n",
       "      <td>0</td>\n",
       "    </tr>\n",
       "    <tr>\n",
       "      <th>47950</th>\n",
       "      <td>0</td>\n",
       "      <td>7</td>\n",
       "      <td>29</td>\n",
       "      <td>0</td>\n",
       "      <td>0</td>\n",
       "      <td>0</td>\n",
       "      <td>0</td>\n",
       "    </tr>\n",
       "    <tr>\n",
       "      <th>47951</th>\n",
       "      <td>0</td>\n",
       "      <td>7</td>\n",
       "      <td>29</td>\n",
       "      <td>0</td>\n",
       "      <td>0</td>\n",
       "      <td>0</td>\n",
       "      <td>0</td>\n",
       "    </tr>\n",
       "    <tr>\n",
       "      <th>47952</th>\n",
       "      <td>0</td>\n",
       "      <td>7</td>\n",
       "      <td>29</td>\n",
       "      <td>0</td>\n",
       "      <td>0</td>\n",
       "      <td>0</td>\n",
       "      <td>0</td>\n",
       "    </tr>\n",
       "    <tr>\n",
       "      <th>47953</th>\n",
       "      <td>0</td>\n",
       "      <td>7</td>\n",
       "      <td>29</td>\n",
       "      <td>0</td>\n",
       "      <td>0</td>\n",
       "      <td>0</td>\n",
       "      <td>0</td>\n",
       "    </tr>\n",
       "  </tbody>\n",
       "</table>\n",
       "<p>47954 rows × 7 columns</p>\n",
       "</div>"
      ],
      "text/plain": [
       "       days  hours  minutes  seconds  milliseconds  microseconds  nanoseconds\n",
       "0         0     14       29        0             0             0            0\n",
       "1         0     14       29        0             0             0            0\n",
       "2         0     14       29        0             0             0            0\n",
       "3         0     14       29        0             0             0            0\n",
       "4         0     14       29        0             0             0            0\n",
       "...     ...    ...      ...      ...           ...           ...          ...\n",
       "47949     0      7       29        0             0             0            0\n",
       "47950     0      7       29        0             0             0            0\n",
       "47951     0      7       29        0             0             0            0\n",
       "47952     0      7       29        0             0             0            0\n",
       "47953     0      7       29        0             0             0            0\n",
       "\n",
       "[47954 rows x 7 columns]"
      ]
     },
     "execution_count": 20,
     "metadata": {},
     "output_type": "execute_result"
    }
   ],
   "source": [
    "records['time_diff'].dt.components"
   ]
  },
  {
   "cell_type": "markdown",
   "id": "c6b8d9b3",
   "metadata": {},
   "source": [
    "# Extracting month & day of week"
   ]
  },
  {
   "cell_type": "code",
   "execution_count": 20,
   "id": "a385853d",
   "metadata": {},
   "outputs": [
    {
     "data": {
      "text/plain": [
       "0        2015-01\n",
       "1        2015-01\n",
       "2        2015-01\n",
       "3        2015-01\n",
       "4        2015-01\n",
       "          ...   \n",
       "47949    2015-12\n",
       "47950    2015-12\n",
       "47951    2015-12\n",
       "47952    2015-12\n",
       "47953    2015-12\n",
       "Name: appt_start_date, Length: 47954, dtype: period[M]"
      ]
     },
     "execution_count": 20,
     "metadata": {},
     "output_type": "execute_result"
    }
   ],
   "source": [
    "records['appt_start_date'].dt.to_period('M') #to month"
   ]
  },
  {
   "cell_type": "code",
   "execution_count": 22,
   "id": "512eb981",
   "metadata": {},
   "outputs": [],
   "source": [
    "records['month'] = pd.to_datetime(records['appt_start_date']).dt.month  #new month col\n",
    "records['year']  = pd.to_datetime(records['appt_start_date']).dt.year   # new year col"
   ]
  },
  {
   "cell_type": "code",
   "execution_count": 23,
   "id": "01b64664",
   "metadata": {},
   "outputs": [
    {
     "data": {
      "text/plain": [
       "12    13029\n",
       "6      7743\n",
       "4      4996\n",
       "9      4416\n",
       "10     3669\n",
       "5      3013\n",
       "7      2930\n",
       "3      2262\n",
       "2      2165\n",
       "8      1350\n",
       "1      1248\n",
       "11     1133\n",
       "Name: month, dtype: int64"
      ]
     },
     "execution_count": 23,
     "metadata": {},
     "output_type": "execute_result"
    }
   ],
   "source": [
    "records.month.value_counts()"
   ]
  },
  {
   "cell_type": "code",
   "execution_count": 24,
   "id": "ead27706",
   "metadata": {},
   "outputs": [
    {
     "data": {
      "image/png": "[encoded data removed]",
      "text/plain": [
       "<Figure size 432x288 with 1 Axes>"
      ]
     },
     "metadata": {
      "needs_background": "light"
     },
     "output_type": "display_data"
    }
   ],
   "source": [
    "plt.hist(records.appt_start_date.dt.month,bins=12)\n",
    "plt.show()"
   ]
  },
  {
   "cell_type": "markdown",
   "id": "91fd8528",
   "metadata": {},
   "source": [
    "### December was the month with most visitors"
   ]
  },
  {
   "cell_type": "code",
   "execution_count": 25,
   "id": "9c12dd82",
   "metadata": {
    "scrolled": true
   },
   "outputs": [
    {
     "data": {
      "image/png": "[encoded data removed]",
      "text/plain": [
       "<Figure size 432x288 with 1 Axes>"
      ]
     },
     "metadata": {
      "needs_background": "light"
     },
     "output_type": "display_data"
    }
   ],
   "source": [
    "plt.hist(records.appt_start_date.dt.dayofweek,bins=7)\n",
    "plt.show()"
   ]
  },
  {
   "cell_type": "markdown",
   "id": "3250c787",
   "metadata": {},
   "source": [
    "### Monday has most visitors while Weekends sat  & sun have the least visitors"
   ]
  },
  {
   "cell_type": "markdown",
   "id": "1d9579fe",
   "metadata": {},
   "source": [
    "###   Answer\n",
    "\n",
    "#####  Which rooms tend to have long meetings"
   ]
  },
  {
   "cell_type": "code",
   "execution_count": null,
   "id": "d6a6d1f2",
   "metadata": {},
   "outputs": [],
   "source": []
  }
 ],
 "metadata": {
  "kernelspec": {
   "display_name": "Python 3",
   "language": "python",
   "name": "python3"
  },
  "language_info": {
   "codemirror_mode": {
    "name": "ipython",
    "version": 3
   },
   "file_extension": ".py",
   "mimetype": "text/x-python",
   "name": "python",
   "nbconvert_exporter": "python",
   "pygments_lexer": "ipython3",
   "version": "3.8.8"
  }
 },
 "nbformat": 4,
 "nbformat_minor": 5
}
